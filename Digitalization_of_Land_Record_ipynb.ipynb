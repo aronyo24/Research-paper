{
  "nbformat": 4,
  "nbformat_minor": 0,
  "metadata": {
    "colab": {
      "private_outputs": true,
      "provenance": [],
      "mount_file_id": "1jZDGoQ_JEb2C4sQp_m0O54omvcDxFw9x",
      "authorship_tag": "ABX9TyMSnH1PR9bAGBjBt82b37ll",
      "include_colab_link": true
    },
    "kernelspec": {
      "name": "python3",
      "display_name": "Python 3"
    },
    "language_info": {
      "name": "python"
    }
  },
  "cells": [
    {
      "cell_type": "markdown",
      "metadata": {
        "id": "view-in-github",
        "colab_type": "text"
      },
      "source": [
        "<a href=\"https://colab.research.google.com/github/aronyo24/Research-paper/blob/main/Digitalization_of_Land_Record_ipynb.ipynb\" target=\"_parent\"><img src=\"https://colab.research.google.com/assets/colab-badge.svg\" alt=\"Open In Colab\"/></a>"
      ]
    },
    {
      "cell_type": "code",
      "execution_count": null,
      "metadata": {
        "id": "bjzgFlQOIVZP"
      },
      "outputs": [],
      "source": [
        "import numpy as np\n",
        "import pandas as pd\n",
        "import matplotlib.pyplot as plt\n",
        "import seaborn as sns\n"
      ]
    },
    {
      "cell_type": "code",
      "source": [
        "df=pd.read_csv(\"/content/drive/MyDrive/Research Paper/Primary data .csv\")\n",
        "df"
      ],
      "metadata": {
        "id": "s0l_eJiMLizl"
      },
      "execution_count": null,
      "outputs": []
    },
    {
      "cell_type": "code",
      "source": [],
      "metadata": {
        "id": "unZjTYU1X7kz"
      },
      "execution_count": null,
      "outputs": []
    },
    {
      "cell_type": "code",
      "source": [
        "df.head()"
      ],
      "metadata": {
        "id": "ssbSxcY4Xd0_"
      },
      "execution_count": null,
      "outputs": []
    },
    {
      "cell_type": "code",
      "source": [
        "df.columns"
      ],
      "metadata": {
        "id": "uJZJdgHDN31M"
      },
      "execution_count": null,
      "outputs": []
    },
    {
      "cell_type": "code",
      "source": [
        "df=df.drop(columns=['Unnamed: 0', 'Unnamed: 1', 'Unnamed: 2', 'Unnamed: 3', 'Name','Age','Gender','Who Submitted Application','Recommendation from elites',\n",
        "       'Previous experience of mutation', 'Taka in manual service',\n",
        "       'Days in manual service', 'Visits in manual service',\n",
        "       'recommendation in manual service'])\n",
        "df"
      ],
      "metadata": {
        "id": "SKaA1s89Y1RD"
      },
      "execution_count": null,
      "outputs": []
    },
    {
      "cell_type": "code",
      "source": [
        "df.rename(columns={\n",
        "    \"Education\": \"education\",\n",
        "    \"Phone User\": \"phone_type\",\n",
        "    \"Laptop Access\": \"laptop_access\",\n",
        "    \"Internet Access\": \"internet_access\",\n",
        "    \"Device Used for submitting application\": \"device_used\",\n",
        "    \"Application Submission times\": \"app_submission_times\",\n",
        "    \"Cost of Submitting Application \": \"app_cost\",\n",
        "    \"Cost for e-mutation\": \"e_mutation_cost\",\n",
        "    \"To whom, pay\": \"payment_receiver\",\n",
        "    \"Days to get the service\": \"service_days\",\n",
        "    \"Citizen Awareness of Circulars\": \"awareness_circulars\",\n",
        "    \"Citizen's Awareness for Complaints\": \"awareness_complaints\",\n",
        "    \"Visits to government offices\": \"gov_office_visits\",\n",
        "    \"Cash transaction to govt Offices\": \"cash_transaction\",\n",
        "    \"Citizen's Satistaction\": \"citizen_satisfaction\"\n",
        "}, inplace=True)\n",
        "\n",
        "df\n"
      ],
      "metadata": {
        "id": "8HNjLp3sK9Tm"
      },
      "execution_count": null,
      "outputs": []
    },
    {
      "cell_type": "code",
      "source": [
        "##  Education: 1 = Educated, 0 = Uneducated\n",
        "df['education'] = df['education'].apply(lambda x: 0 if x == \"ill\" else 1)\n",
        "\n",
        "##  Phone Type: 1 = Android, 0 = Button Phone\n",
        "df['phone_type'] = df['phone_type'].apply(lambda x: 1 if x == 1 else 0)\n",
        "\n",
        "##  Laptop Access: 1 = Yes, 0 = No\n",
        "df['laptop_access'] = df['laptop_access'].apply(lambda x: 1 if x == 1 else 0)\n",
        "\n",
        "## Internet Access: 1 = Yes, 0 = No\n",
        "df['internet_access'] = df['internet_access'].apply(lambda x: 1 if x == 1 else 0)\n",
        "\n",
        "## Citizen Awareness of Circulars: 1 = Yes, 0 = No\n",
        "df['awareness_circulars'] = df['awareness_circulars'].apply(lambda x: 1 if x == 1 else 0)\n",
        "\n",
        "## Citizen's Awareness for Complaints: 1 = Yes, 0 = No\n",
        "df['awareness_complaints'] = df['awareness_complaints'].apply(lambda x: 1 if x == 1 else 0)"
      ],
      "metadata": {
        "id": "UpIk0L3UcJv9"
      },
      "execution_count": null,
      "outputs": []
    },
    {
      "cell_type": "code",
      "source": [
        "df = df.dropna()\n",
        "df.describe()\n",
        "df\n"
      ],
      "metadata": {
        "id": "dsTTBw7ZlR9f"
      },
      "execution_count": null,
      "outputs": []
    },
    {
      "cell_type": "code",
      "source": [
        "df.hist(figsize=(12, 10), bins=20)\n",
        "plt.show()"
      ],
      "metadata": {
        "id": "ZIG3AEOBuIvZ"
      },
      "execution_count": null,
      "outputs": []
    },
    {
      "cell_type": "code",
      "source": [
        "plt.figure(figsize=(12, 6))\n",
        "sns.boxplot(data=df)\n",
        "plt.xticks(rotation=90)\n",
        "plt.show()"
      ],
      "metadata": {
        "id": "GiV6_8jhYLaA"
      },
      "execution_count": null,
      "outputs": []
    }
  ]
}