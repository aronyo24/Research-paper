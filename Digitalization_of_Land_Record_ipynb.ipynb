{
  "nbformat": 4,
  "nbformat_minor": 0,
  "metadata": {
    "colab": {
      "private_outputs": true,
      "provenance": [],
      "mount_file_id": "1jZDGoQ_JEb2C4sQp_m0O54omvcDxFw9x",
      "authorship_tag": "ABX9TyPRQThzDRAiMiHeIsALzSyH",
      "include_colab_link": true
    },
    "kernelspec": {
      "name": "python3",
      "display_name": "Python 3"
    },
    "language_info": {
      "name": "python"
    }
  },
  "cells": [
    {
      "cell_type": "markdown",
      "metadata": {
        "id": "view-in-github",
        "colab_type": "text"
      },
      "source": [
        "<a href=\"https://colab.research.google.com/github/aronyo24/Research-paper/blob/main/Digitalization_of_Land_Record_ipynb.ipynb\" target=\"_parent\"><img src=\"https://colab.research.google.com/assets/colab-badge.svg\" alt=\"Open In Colab\"/></a>"
      ]
    },
    {
      "cell_type": "code",
      "execution_count": null,
      "metadata": {
        "id": "bjzgFlQOIVZP"
      },
      "outputs": [],
      "source": [
        "import numpy as np\n",
        "import pandas as pd\n",
        "import matplotlib.pyplot as plt\n",
        "import seaborn as sns\n",
        "import statsmodels.api as sm\n",
        "import statsmodels.formula.api as smf\n",
        "\n"
      ]
    },
    {
      "cell_type": "code",
      "source": [
        "df=pd.read_csv(\"/content/drive/MyDrive/Research Paper/test_digi_manual_land_re.csv\")\n",
        "df"
      ],
      "metadata": {
        "id": "s0l_eJiMLizl"
      },
      "execution_count": null,
      "outputs": []
    },
    {
      "cell_type": "code",
      "source": [
        "df.columns.tolist()"
      ],
      "metadata": {
        "id": "Jib2HytnJfPm"
      },
      "execution_count": null,
      "outputs": []
    },
    {
      "cell_type": "code",
      "source": [],
      "metadata": {
        "id": "bpzQ5ixYFBnz"
      },
      "execution_count": null,
      "outputs": []
    },
    {
      "cell_type": "code",
      "source": [
        "#df=df.drop(columns=['Unnamed: 22', 'Unnamed: 23','Unnamed: 24'])\n",
        "#df"
      ],
      "metadata": {
        "id": "SKaA1s89Y1RD"
      },
      "execution_count": null,
      "outputs": []
    },
    {
      "cell_type": "code",
      "source": [
        "df.rename(columns={\n",
        "    \"Service Type \":\"service_type\",\n",
        "    'Location':'location',\n",
        "    \"Education\": \"education\",\n",
        "    \"Phone User\": \"phone_type\",\n",
        "    \"Laptop Access\": \"laptop_access\",\n",
        "    \"Internet Access\": \"internet_access\",\n",
        "    \"Who Submitted Application\" :\"who_submitted_application\",\n",
        "    \"Device Used for submitting application\": \"device_used\",\n",
        "    \"Application Submission times\": \"app_submission_times\",\n",
        "    \"Cost of Submitting Application \": \"app_cost\",\n",
        "    \"Cost for e-mutation\": \"e_mutation_cost\",\n",
        "    \"To whom, pay\": \"payment_receiver\",\n",
        "    \"Days to get the service\": \"service_days\",\n",
        "    \"Citizen Awareness of Circulars\": \"awareness_circulars\",\n",
        "    \"Citizen's Awareness for Complaints\": \"awareness_complaints\",\n",
        "    \"Visits to government offices\": \"gov_office_visits\",\n",
        "    \"Cash transaction to govt Offices\": \"cash_transaction\",\n",
        "    \"Citizen's Satistaction\": \"citizen_satisfaction\",\n",
        "    \"Recommendation from elites\":\"recommendation_f_elites\",\n",
        "    \"Previous experience of mutation\":\"Previous_experience_mut\"\n",
        "\n",
        "}, inplace=True)\n",
        "\n",
        "df\n"
      ],
      "metadata": {
        "id": "8HNjLp3sK9Tm"
      },
      "execution_count": null,
      "outputs": []
    },
    {
      "cell_type": "code",
      "source": [
        "##  Education: 1 = Educated, 0 = Uneducated\n",
        "df['education'] = df['education'].apply(lambda x: 0 if x == \"ill\" else 1)\n",
        "\n",
        "##  Phone Type: 1 = Android, 0 = Button Phone\n",
        "df['phone_type'] = df['phone_type'].apply(lambda x: 1 if x == 1 else 0)\n",
        "\n",
        "##  Laptop Access: 1 = Yes, 0 = No\n",
        "df['laptop_access'] = df['laptop_access'].apply(lambda x: 1 if x == 1 else 0)\n",
        "\n",
        "## Internet Access: 1 = Yes, 0 = No\n",
        "df['internet_access'] = df['internet_access'].apply(lambda x: 1 if x == 1 else 0)\n",
        "\n",
        "## Citizen Awareness of Circulars: 1 = Yes, 0 = No\n",
        "df['awareness_circulars'] = df['awareness_circulars'].apply(lambda x: 1 if x == 1 else 0)\n",
        "\n",
        "## Citizen's Awareness for Complaints: 1 = Yes, 0 = No\n",
        "df['awareness_complaints'] = df['awareness_complaints'].apply(lambda x: 1 if x == 1 else 0)\n",
        "## Device Used for submitting application 1 = laptop ,0 = phone\n",
        "df['device_used'] = df['device_used'].apply(lambda x: 1 if x == 1 else 0)\n",
        "\n",
        "## Cash transaction to govt Offices 1 = yes ,0 = no\n",
        "df['cash_transaction'] = df['cash_transaction'].apply(lambda x: 1 if x == 1 else 0)\n",
        "\n",
        "##Citizen's Satistaction 1= yes , 0 = no\n",
        "df['citizen_satisfaction'] = df['citizen_satisfaction'].apply(lambda x: 1 if x == 1 else 0)\n",
        "\n"
      ],
      "metadata": {
        "id": "UpIk0L3UcJv9"
      },
      "execution_count": null,
      "outputs": []
    },
    {
      "cell_type": "code",
      "source": [
        "df.describe()"
      ],
      "metadata": {
        "id": "qcvpXKEwCMnz"
      },
      "execution_count": null,
      "outputs": []
    },
    {
      "cell_type": "code",
      "source": [
        "df = df.dropna()\n",
        "\n",
        "df\n"
      ],
      "metadata": {
        "id": "dsTTBw7ZlR9f"
      },
      "execution_count": null,
      "outputs": []
    },
    {
      "cell_type": "code",
      "source": [
        "df.hist(figsize=(15, 13), bins=20)\n",
        "plt.show()"
      ],
      "metadata": {
        "id": "ZIG3AEOBuIvZ"
      },
      "execution_count": null,
      "outputs": []
    },
    {
      "cell_type": "code",
      "source": [
        "df[['e_mutation_cost','service_days']]\n",
        "# in column e mutation cost means money range 1= 1170, 2 = 1170 to 2000 , 3= 2001 to 3000 & 4= 3001 to 4000\n",
        "# in column service days means m range 1= 28 ,2 = 28 to 45\n",
        "\n",
        "\n",
        "\n",
        "# Define the mappings\n",
        "e_mutation_cost_map = {\n",
        "    1: 1170,\n",
        "    2: 1585,\n",
        "    3: 2500,\n",
        "    4: 3500\n",
        "}\n",
        "\n",
        "service_days_map = {\n",
        "    1: 28,\n",
        "    2: 36\n",
        "}\n",
        "\n",
        "# Map values for e_mutation_cost if they are in [1, 2, 3, 4]\n",
        "df['e_mutation_cost'] = df['e_mutation_cost'].apply(lambda x: e_mutation_cost_map.get(x, x))\n",
        "\n",
        "# Map values for service_days if they are in [1, 2]\n",
        "df['service_days'] = df['service_days'].apply(lambda x: service_days_map.get(x, x))\n",
        "\n",
        "df\n"
      ],
      "metadata": {
        "id": "xPaeuzyevDwU"
      },
      "execution_count": null,
      "outputs": []
    },
    {
      "cell_type": "code",
      "source": [
        "df.hist(figsize=(15, 13), bins=20)\n",
        "plt.show()"
      ],
      "metadata": {
        "id": "l77RE-3n1LA6"
      },
      "execution_count": null,
      "outputs": []
    },
    {
      "cell_type": "code",
      "source": [
        "# Define Treatment (Service Type: 1 = Digital, 0  Manual)\n",
        "df['Treatment'] = df['service_type']\n",
        "\n",
        "# Define Post-digitalization period (Assume service_days > 20 means post)\n",
        "df['Post'] = (df['service_days'] <= 20).astype(int)\n",
        "\n",
        "# DID Interaction Term\n",
        "df['Treatment_Post'] = df['Treatment'] * df['Post']"
      ],
      "metadata": {
        "id": "Xin7xVXxIGIF"
      },
      "execution_count": null,
      "outputs": []
    },
    {
      "cell_type": "code",
      "source": [
        "model = smf.ols(\"service_days ~ Treatment + Post + Treatment_Post + education + internet_access + laptop_access\", data=df).fit()\n",
        "model.summary()"
      ],
      "metadata": {
        "id": "pbblXuL8KMFV"
      },
      "execution_count": null,
      "outputs": []
    },
    {
      "cell_type": "code",
      "source": [
        "model2 = smf.ols(\"citizen_satisfaction ~ Treatment + Post + Treatment_Post + education + internet_access + laptop_access\", data=df).fit()\n",
        "model2.summary()"
      ],
      "metadata": {
        "id": "_ZW-yt02Ksod"
      },
      "execution_count": null,
      "outputs": []
    },
    {
      "cell_type": "code",
      "source": [
        "sns.barplot(x=\"Treatment_Post\", y=\"service_days\", data=df, palette=\"coolwarm\")\n",
        "plt.title(\"Impact of Digitalization on Service Time\")\n",
        "plt.xlabel(\"Digital Service (1=Yes, 0=No)\")\n",
        "plt.ylabel(\"Days to Get the Service\")\n",
        "plt.show()"
      ],
      "metadata": {
        "id": "PwrEiYl9LDi1"
      },
      "execution_count": null,
      "outputs": []
    },
    {
      "cell_type": "code",
      "source": [
        "sns.boxplot(x=\"Post\", y=\"app_cost\", data=df, palette=\"pastel\")\n",
        "plt.title(\"Impact of Digitalization on Cost of Application\")\n",
        "plt.xlabel(\"Post-Digitalization (1=Yes, 0=No)\")\n",
        "plt.ylabel(\"Application Cost (Taka)\")\n",
        "plt.show()\n"
      ],
      "metadata": {
        "id": "2278VwMrLQ2e"
      },
      "execution_count": null,
      "outputs": []
    },
    {
      "cell_type": "code",
      "source": [
        "sns.countplot(x=\"citizen_satisfaction\", hue=\"Treatment\", data=df, palette=\"coolwarm\")\n",
        "plt.title(\"Citizen Satisfaction: Digital vs. Manual Service\")\n",
        "plt.xlabel(\"Citizen Satisfaction (1=Yes, 0=No)\")\n",
        "plt.ylabel(\"Count\")\n",
        "plt.legend([\"Manual\", \"Digital\"])\n",
        "plt.show()\n"
      ],
      "metadata": {
        "id": "ULCCD2LrLZzf"
      },
      "execution_count": null,
      "outputs": []
    },
    {
      "cell_type": "code",
      "source": [],
      "metadata": {
        "id": "7GE-lKegLrlt"
      },
      "execution_count": null,
      "outputs": []
    },
    {
      "cell_type": "code",
      "source": [],
      "metadata": {
        "id": "ykZVoZ9vLrt-"
      },
      "execution_count": null,
      "outputs": []
    },
    {
      "cell_type": "code",
      "source": [],
      "metadata": {
        "id": "oyKOqeJaLrxU"
      },
      "execution_count": null,
      "outputs": []
    },
    {
      "cell_type": "code",
      "source": [],
      "metadata": {
        "id": "22WAwYguLr2D"
      },
      "execution_count": null,
      "outputs": []
    },
    {
      "cell_type": "code",
      "source": [
        "#Impact of Internet Access on Service Time\n",
        "plt.figure(figsize=(8, 5))\n",
        "sns.boxplot(x=\"internet_access\", y=\"service_days\", data=df, palette=\"coolwarm\")\n",
        "plt.title(\"Impact of Internet Access on Service Time\", fontsize=14)\n",
        "plt.xlabel(\"Internet Access (1=Yes, 0=No)\")\n",
        "plt.ylabel(\"Days to Get the Service\")\n",
        "plt.show()"
      ],
      "metadata": {
        "id": "NRuZr15H3DcS"
      },
      "execution_count": null,
      "outputs": []
    },
    {
      "cell_type": "code",
      "source": [
        "#effect of Internet Access on E-Mutation Cost\n",
        "\n",
        "sns.histplot(x='internet_access',y=\"e_mutation_cost\",data=df,palette='viridis')\n",
        "plt.title(\"Effect of Internet Access on E-Mutation Cost\",fontsize=14)\n",
        "plt.xlabel(\"Internet Access (1=Yes, 0=No)\")\n",
        "plt.ylabel(\"E-Mutation Cost (in Taka)\")\n",
        "plt.show()"
      ],
      "metadata": {
        "id": "-DeMlZ5__jjx"
      },
      "execution_count": null,
      "outputs": []
    },
    {
      "cell_type": "code",
      "source": [
        "#Citizen Satisfaction\n",
        "\n",
        "sns.barplot(x='education',y='citizen_satisfaction',ci=None,data=df,palette='magma')\n",
        "plt.title(\"Citizen Satisfaction Based on Education\", fontsize=14)\n",
        "plt.xlabel(\"Education Level (1=Educated, 0=Uneducated)\")\n",
        "plt.ylabel(\"Satisfaction Level (1=Yes, 0=No)\")\n",
        "plt.show()"
      ],
      "metadata": {
        "id": "97tYfOnQ_b5p"
      },
      "execution_count": null,
      "outputs": []
    },
    {
      "cell_type": "code",
      "source": [
        "#Cash Transaction and Awareness of Complaints\n",
        "sns.countplot(x=\"cash_transaction\", hue=\"awareness_complaints\", data=df, palette=\"Set2\")\n",
        "plt.title(\"Cash Transaction and Awareness of Complaints\", fontsize=14)\n",
        "plt.xlabel(\"Cash Transaction (1=Yes, 0=No)\")\n",
        "plt.ylabel(\"Count\")\n",
        "plt.legend([\"Not Aware\", \"Aware\"])\n",
        "plt.show()"
      ],
      "metadata": {
        "id": "ysLG67j5YwNi"
      },
      "execution_count": null,
      "outputs": []
    },
    {
      "cell_type": "code",
      "source": [
        "# Define Treatment (Service Type: 1 = Digital, 0  Manual)\n",
        "df['Treatment'] = df['service_type']\n",
        "\n",
        "# Define Post-digitalization period (Assume service_days > 20 means post)\n",
        "df['Post'] = (df['service_days'] <= 20).astype(int)\n",
        "\n",
        "# DID Interaction Term\n",
        "df['Treatment_Post'] = df['Treatment'] * df['Post']\n"
      ],
      "metadata": {
        "id": "ZpDn6tsuuGGe"
      },
      "execution_count": null,
      "outputs": []
    },
    {
      "cell_type": "code",
      "source": [
        "import matplotlib.pyplot as plt\n",
        "import seaborn as sns\n",
        "\n",
        "# Data for visualization\n",
        "systems = ['Manual (Before)', 'Manual (After)', 'Digital (Before)', 'Digital (After)']\n",
        "times = [90, 60, 45, 15]  # Hypothetical averages\n",
        "\n",
        "# Plot the bar chart\n",
        "plt.figure(figsize=(7,5))\n",
        "sns.barplot(x=systems, y=times, palette=['red', 'orange', 'blue', 'green'])\n",
        "\n",
        "# Labels\n",
        "plt.ylabel(\"Service Time (Days)\")\n",
        "plt.xlabel(\"System Type\")\n",
        "plt.title(\"Impact of Digitalization on Service Time\")\n",
        "\n",
        "plt.show()\n"
      ],
      "metadata": {
        "id": "dMFGq1Y9ucgu"
      },
      "execution_count": null,
      "outputs": []
    },
    {
      "cell_type": "code",
      "source": [
        "import pandas as pd\n",
        "\n",
        "# Sample Data\n",
        "data = {\n",
        "    \"System\": [\"Manual\"] * 40 + [\"Digital\"] * 40,\n",
        "    \"Service_Time\": np.random.normal(80, 10, 40).tolist() + np.random.normal(20, 5, 40).tolist()  # Random Data\n",
        "}\n",
        "\n",
        "df = pd.DataFrame(data)\n",
        "\n",
        "# Box Plot\n",
        "plt.figure(figsize=(6,5))\n",
        "sns.boxplot(x=\"System\", y=\"Service_Time\", data=df, palette=['red', 'blue'])\n",
        "plt.ylabel(\"Days to Get Service\")\n",
        "plt.title(\"Service Time Distribution: Manual vs. Digital\")\n",
        "plt.show()\n"
      ],
      "metadata": {
        "id": "3S3sUmTZdVwz"
      },
      "execution_count": null,
      "outputs": []
    }
  ]
}