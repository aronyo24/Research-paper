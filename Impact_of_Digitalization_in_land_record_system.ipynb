{
  "nbformat": 4,
  "nbformat_minor": 0,
  "metadata": {
    "colab": {
      "private_outputs": true,
      "provenance": [],
      "mount_file_id": "1UxHu1SlImwMBTcS6nunpO2lDvNHjxcmB",
      "authorship_tag": "ABX9TyNOwaeVlZEEcHl3a/VEQxMQ",
      "include_colab_link": true
    },
    "kernelspec": {
      "name": "python3",
      "display_name": "Python 3"
    },
    "language_info": {
      "name": "python"
    }
  },
  "cells": [
    {
      "cell_type": "markdown",
      "metadata": {
        "id": "view-in-github",
        "colab_type": "text"
      },
      "source": [
        "<a href=\"https://colab.research.google.com/github/aronyo24/Research-paper/blob/main/Impact_of_Digitalization_in_land_record_system.ipynb\" target=\"_parent\"><img src=\"https://colab.research.google.com/assets/colab-badge.svg\" alt=\"Open In Colab\"/></a>"
      ]
    },
    {
      "cell_type": "code",
      "execution_count": null,
      "metadata": {
        "id": "cQrwHemFQNRn"
      },
      "outputs": [],
      "source": [
        "import numpy as np\n",
        "import pandas as pd\n",
        "import matplotlib.pyplot as plt\n",
        "import seaborn as sns\n",
        "import statsmodels.api as sm\n",
        "import statsmodels.formula.api as smf\n",
        "from scipy.stats import ttest_ind"
      ]
    },
    {
      "cell_type": "code",
      "source": [
        "df = pd.read_csv(\"/content/drive/MyDrive/Impact_of_Digitalization_lr.csv\")\n",
        "df"
      ],
      "metadata": {
        "id": "tdsvEci9TP8W"
      },
      "execution_count": null,
      "outputs": []
    },
    {
      "cell_type": "code",
      "source": [
        "# Step 1: Internet Access Summary\n",
        "internet_access_summary = df['internet_access'].value_counts().rename(index={0: \"No Internet\", 1: \"Has Internet\"})\n",
        "\n",
        "# Step 2: Age Grouping\n",
        "def age_group(age):\n",
        "    if age < 30:\n",
        "        return 'Young (<30)'\n",
        "    elif 30 <= age <= 50:\n",
        "        return 'Middle-aged (30-50)'\n",
        "    else:\n",
        "        return 'Older (>50)'\n",
        "\n",
        "df['age_group'] = df['Age'].apply(age_group)\n",
        "age_group_summary = df['age_group'].value_counts()\n",
        "\n",
        "# Step 3: Build full summary dictionary\n",
        "full_summary = {\n",
        "    \"Total Respondents\": len(df),\n",
        "    \"Internet Access\": internet_access_summary.to_dict(),\n",
        "    \"Age Groups\": age_group_summary.to_dict(),\n",
        "    \"Gender (0=Female, 1=Male)\": df['Gender'].value_counts().to_dict(),\n",
        "    \"Location (Urban/Rural)\": df['location'].value_counts().to_dict(),\n",
        "    \"Education Level (0=Uneducated, 1=Secondary, 2=Higher)\": df['education'].value_counts().to_dict(),\n",
        "    \"Phone Access (0=No, 1=Yes)\": df['phone_type'].value_counts().to_dict(),\n",
        "    \"Laptop Access (0=No, 1=Yes)\": df['laptop_access'].value_counts().to_dict(),\n",
        "    \"Satisfaction (0=No, 1=Yes)\": df['citizen_satisfaction'].value_counts().to_dict()\n",
        "}\n",
        "\n",
        "# Step 4: Convert summary to DataFrame for display or export\n",
        "summary_df = pd.DataFrame(list(full_summary.items()), columns=['Category', 'Value'])\n",
        "\n",
        "# Display the DataFrame\n",
        "#print(summary_df)"
      ],
      "metadata": {
        "id": "bkLPsn_jkFzf"
      },
      "execution_count": null,
      "outputs": []
    },
    {
      "cell_type": "code",
      "source": [
        "summary_df"
      ],
      "metadata": {
        "id": "E_oY1Zthmqxi"
      },
      "execution_count": null,
      "outputs": []
    },
    {
      "cell_type": "code",
      "source": [
        "df.columns.tolist()"
      ],
      "metadata": {
        "id": "cMAqIdW0YPy4"
      },
      "execution_count": null,
      "outputs": []
    },
    {
      "cell_type": "code",
      "source": [
        "df.info(), df.head()"
      ],
      "metadata": {
        "id": "bp7gaToopuFy"
      },
      "execution_count": null,
      "outputs": []
    },
    {
      "cell_type": "code",
      "source": [
        "df['Treatment'] = df['service_type']\n",
        "\n",
        "#  Post-digitalization period -------- service_days\n",
        "df['Post'] = (df['service_days'] <=39 ).astype(int)\n",
        "\n",
        "# DID Interaction Term\n",
        "df['Treatment_Post'] = df['Treatment'] * df['Post']\n",
        "\n",
        "\n",
        "\n"
      ],
      "metadata": {
        "id": "ql6QXtgzPZ29"
      },
      "execution_count": null,
      "outputs": []
    },
    {
      "cell_type": "code",
      "source": [
        "\n",
        "# Define control variables explicitly\n",
        "control_vars = ['Age', 'Gender', 'education', 'phone_type', 'laptop_access','internet_access',\"app_submission_times\",\n",
        "                'app_cost',\"e_mutation_cost\",'gov_office_visits','cash_transaction','awareness_circulars', 'awareness_complaints','citizen_satisfaction']\n",
        "\n",
        "# Construct formula string\n",
        "controls_formula = ' + '.join(control_vars)\n",
        "\n",
        "\n",
        "formula = f\"service_days ~ Treatment + Post + Treatment_Post + {controls_formula}\"\n",
        "\n",
        "# Fit the model\n",
        "model = smf.ols(formula=formula, data=df).fit()\n",
        "\n",
        "# Show summary\n",
        "print(model.summary())"
      ],
      "metadata": {
        "id": "Q89ZmKNWUmYL"
      },
      "execution_count": null,
      "outputs": []
    },
    {
      "cell_type": "code",
      "source": [
        "coefs = model.params\n",
        "conf_int = model.conf_int()\n",
        "conf_int.columns = ['Lower Bound', 'Upper Bound']\n",
        "\n",
        "\n",
        "coef_df = pd.DataFrame({'Coefficient': coefs, 'Lower Bound': conf_int['Lower Bound'], 'Upper Bound': conf_int['Upper Bound']})\n",
        "coef_df = coef_df.drop('Intercept')  #\n",
        "coef_df = coef_df.sort_values(by=\"Coefficient\", ascending=False)\n",
        "\n",
        "colors = ['red' if coef > 0 else 'blue' for coef in coef_df['Coefficient']]\n",
        "\n",
        "\n",
        "plt.figure(figsize=(10, 6))\n",
        "bars = plt.barh(coef_df.index, coef_df['Coefficient'], color=colors, xerr=[coef_df['Coefficient'] - coef_df['Lower Bound'], coef_df['Upper Bound'] - coef_df['Coefficient']])\n",
        "plt.xlabel(\"Effect on Service Days\")\n",
        "plt.title(\"Impact of Different Factors on Service Time\")\n",
        "plt.axvline(x=0, color=\"black\", linestyle=\"dashed\")\n",
        "plt.gca().invert_yaxis()\n",
        "\n",
        "\n",
        "for bar, coef in zip(bars, coef_df['Coefficient']):\n",
        "    plt.text(bar.get_width(), bar.get_y() + bar.get_height()/2, f\"{coef:.2f}\", ha='left' if coef > 0 else 'right', va='center', fontsize=10)\n",
        "\n",
        "plt.grid(True)\n",
        "\n",
        "plt.savefig(\"Different_Fac_Service_time_1.pdf\", format='pdf', bbox_inches='tight')"
      ],
      "metadata": {
        "id": "eLshsAvXSJPH"
      },
      "execution_count": null,
      "outputs": []
    },
    {
      "cell_type": "code",
      "source": [
        "model = smf.ols(formula='gov_office_visits ~  service_days', data=df).fit()\n",
        "print(model.summary())\n",
        "\n",
        "# Step 2: Visualize with regression line\n",
        "plt.figure(figsize=(8, 5))\n",
        "sns.set_style(\"whitegrid\")  # Clean background\n",
        "sns.regplot(\n",
        "    x='service_days',\n",
        "    y='gov_office_visits',\n",
        "    data=df,\n",
        "    scatter_kws={'alpha': 0.6, 'color': '#4682B4'},  # steelblue\n",
        "    line_kws={\"color\": \"#FF6347\", \"linewidth\": 2}   # tomato red regression line\n",
        ")\n",
        "plt.title(\"Impact of Service Days on Government Office Visits\", fontsize=14, fontweight='bold', color='#333333')\n",
        "plt.xlabel(\"Service Days\", fontsize=12)\n",
        "plt.ylabel(\"Gov Office Visits\", fontsize=12)\n",
        "plt.grid(True, linestyle='--', linewidth=0.5, alpha=0.7)\n",
        "plt.tight_layout()\n",
        "plt.savefig(\"Impact_Service_time_on_Visit.pdf\", format='pdf', bbox_inches='tight')"
      ],
      "metadata": {
        "id": "jmz6tjC0xQpQ"
      },
      "execution_count": null,
      "outputs": []
    },
    {
      "cell_type": "code",
      "source": [
        "did_plot = df.groupby(['Treatment', 'Post'])['service_days'].mean().reset_index()\n",
        "\n",
        "did_plot['System'] = did_plot['Treatment'].map({\n",
        "    0: 'Manual',\n",
        "    1: 'Digital'\n",
        "})\n",
        "\n",
        "\n",
        "did_plot['Period'] = did_plot['Post'].map({\n",
        "    0: 'Before',\n",
        "    1: 'After'\n",
        "})\n",
        "\n",
        "did_plot = did_plot.groupby(['Period', 'System'])['service_days'].mean().reset_index()\n",
        "\n",
        "\n",
        "did_pivot = did_plot.pivot(index='Period', columns='System', values='service_days')\n",
        "\n",
        "bg_color = '#e9ede9'\n",
        "grid_color = '#6d6e6d'\n",
        "\n",
        "\n",
        "fig, ax = plt.subplots(figsize=(8, 5))\n",
        "sns.set_style(\"white\")\n",
        "\n",
        "# Change 1: Iterate over did_pivot instead of bribe_pivot\n",
        "for period in did_pivot.index:\n",
        "    for status in did_pivot.columns:\n",
        "        value = did_pivot.loc[period, status]\n",
        "        plt.text(x=period, y=value - 1.3, s=f\"{value:.1f}\", ha='center', va='bottom', fontsize=10)\n",
        "\n",
        "ax.set_facecolor(bg_color)\n",
        "\n",
        "sns.lineplot(data=did_pivot, markers=True, dashes=False, linewidth=2.2, ax=ax)\n",
        "\n",
        "ax.set_facecolor(bg_color)\n",
        "ax.set_title(\"Effect of Digitalization on Service Time\", fontsize=13, color='#333333')\n",
        "ax.set_ylabel(\"Average Service Days\")\n",
        "ax.set_xlabel(\"Time Period (Before vs After Digitalization)\")\n",
        "ax.axvline(x=0.5, color=\"black\", linestyle=\"dashed\", linewidth=1.2, label=\"Digitalization Begins\")\n",
        "ax.legend(title=\"System Type\")\n",
        "\n",
        "\n",
        "ax.grid(True, linestyle='--', linewidth=0.7, color=grid_color, alpha=0.9)\n",
        "\n",
        "plt.tight_layout()\n",
        "plt.savefig(\"Effect_dig_on_Service_time_3.pdf\", format='pdf', bbox_inches='tight')"
      ],
      "metadata": {
        "id": "7uhSZ_xAKmI7"
      },
      "execution_count": null,
      "outputs": []
    },
    {
      "cell_type": "code",
      "source": [
        "\n",
        "df.rename(columns={'cash_transaction ': 'cash_transaction'}, inplace=True)\n",
        "\n",
        "df['Treatment'] = df['service_type']\n",
        "df['Post'] = (df['service_days'] <= 39).astype(int)\n",
        "\n",
        "# Grouped averages\n",
        "bribe_plot = df.groupby(['cash_transaction', 'Post'])['service_days'].mean().reset_index()\n",
        "\n",
        "# Map to ethical and time labels\n",
        "bribe_plot['Bribe Payment Status'] = bribe_plot['cash_transaction'].map({\n",
        "    0: 'Did Not Pay Bribe',\n",
        "    1: 'Paid Bribe Before'\n",
        "})\n",
        "bribe_plot['Digitalization Period'] = bribe_plot['Post'].map({\n",
        "    0: 'Before Digitalization',\n",
        "    1: 'After Digitalization'\n",
        "})\n",
        "\n",
        "bg_color = '#e9ede9'       # Light blue background\n",
        "grid_color = '#6d6e6d'\n",
        "# Create pivot for plotting, using 'Digitalization Period' as the index\n",
        "bribe_pivot = bribe_plot.pivot(index='Digitalization Period', columns='Bribe Payment Status', values='service_days')\n",
        "\n",
        "# Plot setup\n",
        "plt.figure(figsize=(10, 6))\n",
        "sns.set(style=\"whitegrid\", font_scale=1.1)\n",
        "plot = sns.lineplot(data=bribe_pivot, markers=True, dashes=False, linewidth=2.5)\n",
        "\n",
        "# Add labels to points\n",
        "for period in bribe_pivot.index:\n",
        "    for status in bribe_pivot.columns:\n",
        "        value = bribe_pivot.loc[period, status]\n",
        "        plt.text(x=period, y=value + 0.7, s=f\"{value:.1f}\", ha='center', va='bottom', fontsize=10)\n",
        "ax.set_facecolor(bg_color)\n",
        "\n",
        "plot.set_facecolor(bg_color)\n",
        "plt.title(\"Impact of Bribe Payments on Service Processing Time\\nBefore and After Digitalization\", fontsize=15, weight='bold')\n",
        "plt.ylabel(\"Average Service Days\", fontsize=12)\n",
        "plt.xlabel(\"Time Period\", fontsize=12)\n",
        "plt.axvline(x=0.5, color=\"black\", linestyle=\"dashed\", label=\"Digitalization Point\")\n",
        "plt.legend(title=\"Payment Type\", loc='upper left')\n",
        "plt.grid(True, linestyle='--', linewidth=0.7, color=grid_color, alpha=0.9)\n",
        "plt.tight_layout()\n",
        "plt.savefig(\"Effect_Bribe_Payments_on_Service_time.pdf\", format='pdf', bbox_inches='tight')"
      ],
      "metadata": {
        "id": "ixtXYLeyh4H8"
      },
      "execution_count": null,
      "outputs": []
    },
    {
      "cell_type": "code",
      "source": [
        "\n",
        "# Prepare the data\n",
        "df['Treatment'] = df['service_type']\n",
        "df['Post'] = (df['service_days'] <= 39).astype(int)\n",
        "\n",
        "# Group service_days by satisfaction and digitalization period\n",
        "satisfaction_plot = df.groupby(['citizen_satisfaction', 'Post'])['service_days'].mean().reset_index()\n",
        "\n",
        "# Map readable labels\n",
        "satisfaction_plot['Satisfaction'] = satisfaction_plot['citizen_satisfaction'].map({\n",
        "    0: 'Not Satisfied',\n",
        "    1: 'Satisfied'\n",
        "})\n",
        "satisfaction_plot['Period'] = satisfaction_plot['Post'].map({\n",
        "    0: 'Before Digitalization',\n",
        "    1: 'After Digitalization'\n",
        "})\n",
        "\n",
        "# Background and grid colors\n",
        "bg_color = '#e9ede9'       # Light blue background\n",
        "grid_color = '#6d6e6d'\n",
        "\n",
        "# Pivot table for plotting\n",
        "satisfaction_pivot = satisfaction_plot.pivot(index='Period', columns='Satisfaction', values='service_days')\n",
        "\n",
        "# Plot setup\n",
        "plt.figure(figsize=(10, 6))\n",
        "sns.set(style=\"whitegrid\", font_scale=1.1)\n",
        "\n",
        "# Line plot\n",
        "plot = sns.lineplot(data=satisfaction_pivot, markers=True, dashes=False, linewidth=2.5)\n",
        "\n",
        "# Data labels\n",
        "for period in satisfaction_pivot.index:\n",
        "    for status in satisfaction_pivot.columns:\n",
        "        value = satisfaction_pivot.loc[period, status]\n",
        "        plt.text(x=period, y=value + 0.7, s=f\"{value:.1f}\", ha='center', va='bottom', fontsize=10)\n",
        "\n",
        "# Titles and labels\n",
        "plot.set_facecolor(bg_color)\n",
        "plt.title(\"Impact of Citizen Satisfaction on Service Time\\nBefore and After Digitalization\", fontsize=15, weight='bold')\n",
        "plt.ylabel(\"Average Service Days\", fontsize=12)\n",
        "plt.xlabel(\"Time Period\", fontsize=12)\n",
        "\n",
        "# Digitalization line\n",
        "plt.axvline(x=0.5, color=\"black\", linestyle=\"dashed\", label=\"Digitalization Point\")\n",
        "\n",
        "# Set legend to LEFT\n",
        "plt.legend(title=\"Satisfaction Status\", loc='upper left')\n",
        "\n",
        "# Final touches\n",
        "plt.grid(True, linestyle='--', linewidth=0.7, color=grid_color, alpha=0.9)\n",
        "plt.tight_layout()\n",
        "plt.savefig(\"ImpactCitizen_Satisfaction_on_Service_time.pdf\", format='pdf', bbox_inches='tight')\n"
      ],
      "metadata": {
        "id": "3-ZY5UZ401Cy"
      },
      "execution_count": null,
      "outputs": []
    },
    {
      "cell_type": "code",
      "source": [
        "# Final regression formula\n",
        "control_vars = ['Age', 'Gender', 'education', 'phone_type', 'laptop_access','internet_access',\n",
        "                'app_submission_times', 'app_cost', 'e_mutation_cost', 'service_days',\n",
        "                'cash_transaction','awareness_circulars', 'awareness_complaints', 'citizen_satisfaction']\n",
        " # Construct formula string\n",
        "controls_formula = ' + '.join(control_vars)\n",
        "\n",
        "formula = f\"gov_office_visits ~ Treatment + Post + Treatment_Post + {controls_formula}\"\n",
        "\n",
        "# Fit the model\n",
        "model = smf.ols(formula=formula, data=df).fit()\n",
        "\n",
        "# Show summary\n",
        "print(model.summary())"
      ],
      "metadata": {
        "id": "G5we-1XNb-YP"
      },
      "execution_count": null,
      "outputs": []
    },
    {
      "cell_type": "code",
      "source": [
        "coefs = model.params\n",
        "conf_int = model.conf_int()\n",
        "conf_int.columns = ['Lower Bound', 'Upper Bound']\n",
        "\n",
        "\n",
        "coef_df = pd.DataFrame({'Coefficient': coefs, 'Lower Bound': conf_int['Lower Bound'], 'Upper Bound': conf_int['Upper Bound']})\n",
        "coef_df = coef_df.drop('Intercept')  #\n",
        "coef_df = coef_df.sort_values(by=\"Coefficient\", ascending=False)\n",
        "\n",
        "#positive = red, negative = blue\n",
        "colors = ['red' if coef > 0 else 'blue' for coef in coef_df['Coefficient']]\n",
        "\n",
        "\n",
        "plt.figure(figsize=(10, 6))\n",
        "bars = plt.barh(coef_df.index, coef_df['Coefficient'], color=colors, xerr=[coef_df['Coefficient'] - coef_df['Lower Bound'], coef_df['Upper Bound'] - coef_df['Coefficient']])\n",
        "plt.xlabel(\"Effect on gov office visits\")\n",
        "plt.title(\"Impact of Different Factors on Visit\")\n",
        "plt.axvline(x=0, color=\"black\", linestyle=\"dashed\")\n",
        "plt.gca().invert_yaxis()\n",
        "\n",
        "for bar, coef in zip(bars, coef_df['Coefficient']):\n",
        "    offset = 0.05 if coef > 0 else -0.05\n",
        "    align = 'left' if coef > 0 else 'right'\n",
        "    plt.text(bar.get_width() + offset, bar.get_y() + bar.get_height()/2,\n",
        "             f\"{coef:.2f}\", ha=align, va='center', fontsize=9)\n",
        "\n",
        "plt.savefig(\"Different_Fac_visit.pdf\", format='pdf', bbox_inches='tight')"
      ],
      "metadata": {
        "id": "z3MJODGUdJeD"
      },
      "execution_count": null,
      "outputs": []
    },
    {
      "cell_type": "code",
      "source": [
        "\n",
        "df_analysis = df.groupby([\"Treatment\", \"Treatment_Post\"])[\"gov_office_visits\"].mean().reset_index()\n",
        "\n",
        "\n",
        "df_analysis[\"Service_Type\"] = df_analysis[\"Treatment\"].map({0: \"Manual System\", 1: \"Digital System\"})\n",
        "df_analysis[\"Digitalization_Period\"] = df_analysis[\"Treatment_Post\"].map({0: \"Before Digitalization\", 1: \"After Digitalization\"})\n",
        "\n",
        "plt.figure(figsize=(8, 5))\n",
        "ax = sns.barplot(\n",
        "    x=\"Service_Type\",\n",
        "    y=\"gov_office_visits\",\n",
        "    hue=\"Digitalization_Period\",\n",
        "    data=df_analysis,\n",
        "    palette={\"Before Digitalization\": \"blue\", \"After Digitalization\": \"orange\"},\n",
        "    capsize=0.1\n",
        ")\n",
        "\n",
        "# Titles and labels\n",
        "plt.title(\"Effect of Digital vs Manual System on Government Office Visits\")\n",
        "plt.xlabel(\"Service Type\")\n",
        "plt.ylabel(\"Average Number of Office Visits\")\n",
        "\n",
        "# Add a legend\n",
        "plt.legend(title=\"Digitalization\", fontsize=11)\n",
        "plt.grid(True)\n",
        "\n",
        "plt.savefig(\"gov_office_visits.pdf\", format='pdf', bbox_inches='tight')"
      ],
      "metadata": {
        "id": "O0aJdKAG4lft"
      },
      "execution_count": null,
      "outputs": []
    },
    {
      "cell_type": "code",
      "source": [
        "control_vars = [\n",
        "    'Age', 'Gender', 'education', 'phone_type', 'gov_office_visits', 'laptop_access', 'internet_access',\n",
        "    'app_submission_times', 'service_days', 'cash_transaction',\n",
        "    'awareness_circulars', 'awareness_complaints', 'citizen_satisfaction'\n",
        "]\n",
        "\n",
        "# Step 2: Construct control variable string\n",
        "controls_formula = ' + '.join(control_vars)\n",
        "\n",
        "# Step 3: Create cost variable (already correct)\n",
        "df['cost'] = df['app_cost'] + df['e_mutation_cost']\n",
        "\n",
        "# Step 4: Final regression formula for cost\n",
        "formula = f\"cost ~ Treatment + Post + Treatment_Post + {controls_formula}\"\n",
        "\n",
        "\n",
        "# Fit the model\n",
        "model = smf.ols(formula=formula, data=df).fit()\n",
        "\n",
        "# Show summary\n",
        "print(model.summary())"
      ],
      "metadata": {
        "id": "6A6VlM8_cUxv"
      },
      "execution_count": null,
      "outputs": []
    },
    {
      "cell_type": "code",
      "source": [
        "coefs = model.params\n",
        "conf_int = model.conf_int()\n",
        "conf_int.columns = ['Lower Bound', 'Upper Bound']\n",
        "\n",
        "\n",
        "coef_df = pd.DataFrame({'Coefficient': coefs, 'Lower Bound': conf_int['Lower Bound'], 'Upper Bound': conf_int['Upper Bound']})\n",
        "coef_df = coef_df.drop('Intercept')  #\n",
        "coef_df = coef_df.sort_values(by=\"Coefficient\", ascending=False)\n",
        "\n",
        "#positive = red, negative = blue\n",
        "colors = ['red' if coef > 0 else 'blue' for coef in coef_df['Coefficient']]\n",
        "\n",
        "\n",
        "plt.figure(figsize=(10, 6))\n",
        "bars = plt.barh(coef_df.index, coef_df['Coefficient'], color=colors, xerr=[coef_df['Coefficient'] - coef_df['Lower Bound'], coef_df['Upper Bound'] - coef_df['Coefficient']])\n",
        "plt.xlabel(\"Effect on cost\")\n",
        "plt.title(\"Impact of Different Factors on cost\")\n",
        "plt.axvline(x=0, color=\"black\", linestyle=\"dashed\")\n",
        "plt.gca().invert_yaxis()\n",
        "\n",
        "\n",
        "for bar, coef in zip(bars, coef_df['Coefficient']):\n",
        "    plt.text(bar.get_width(), bar.get_y() + bar.get_height()/2, f\"{coef:.2f}\", ha='left' if coef > 0 else 'right', va='center', fontsize=10)\n",
        "\n",
        "plt.grid(True)\n",
        "\n",
        "plt.savefig(\"Different_Fac_Service_cost.pdf\", format='pdf', bbox_inches='tight')"
      ],
      "metadata": {
        "id": "BghuYfoYdxi6"
      },
      "execution_count": null,
      "outputs": []
    },
    {
      "cell_type": "code",
      "source": [
        "df['cost'] = df['app_cost'] + df['e_mutation_cost']\n",
        "\n",
        "# Step 2: Split by digitalization period\n",
        "before_cost = df[df['Post'] == 0]['cost']\n",
        "after_cost = df[df['Post'] == 1]['cost']\n",
        "\n",
        "# Step 3: Perform Independent T-Test\n",
        "t_stat, p_value = ttest_ind(before_cost, after_cost, equal_var=False)\n",
        "\n",
        "# Step 4: Summary for bar plot\n",
        "cost_comparison = df.groupby('Post')['cost'].agg(['mean', 'count', 'std']).reset_index()\n",
        "cost_comparison['Period'] = cost_comparison['Post'].map({0: 'Before Digitalization', 1: 'After Digitalization'})\n",
        "cost_comparison = cost_comparison.drop(columns='Post')\n",
        "\n",
        "# Step 5: Plot average cost to complete full process\n",
        "plt.figure(figsize=(8, 6))\n",
        "sns.barplot(x='Period', y='mean', data=cost_comparison, palette='Set2', edgecolor='black', ci=None)\n",
        "\n",
        "# Annotate bar values\n",
        "for index, row in cost_comparison.iterrows():\n",
        "    plt.text(index, row['mean'] + 5, f\"{row['mean']:.1f}\", ha='center', fontsize=11)\n",
        "\n",
        "# Final formatting\n",
        "plt.title(\"Average Cost to Complete Full Process\\nBefore vs After Digitalization\", fontsize=14, weight='bold')\n",
        "plt.ylabel(\"Average Total Cost (BDT)\")\n",
        "plt.grid(True, axis='y')\n",
        "plt.tight_layout()\n",
        "plt.savefig(\"Cost_Complete_Full_Process.pdf\", format='pdf', bbox_inches='tight')\n",
        "\n",
        "# Step 6: Print t-test results\n",
        "#print(\"T-Test Result (Cost to Complete Full Process):\")\n",
        "#print(f\"T-Statistic: {t_stat:.3f}\")\n",
        "#print(f\"P-Value: {p_value:.4f}\")"
      ],
      "metadata": {
        "id": "8gazOZ5-_gF-"
      },
      "execution_count": null,
      "outputs": []
    },
    {
      "cell_type": "code",
      "source": [
        "df['cost'] = df['app_cost'] + df['e_mutation_cost']\n",
        "\n",
        "# Step 2: Logistic regression model\n",
        "logit_model = smf.logit(formula='citizen_satisfaction ~ cost', data=df).fit()\n",
        "print(logit_model.summary())\n",
        "\n",
        "# Step 3: Predict probabilities across a range of cost values\n",
        "cost_range = np.linspace(df['cost'].min(), df['cost'].max(), 100)\n",
        "pred_df = pd.DataFrame({'cost': cost_range})\n",
        "pred_df['predicted_prob'] = logit_model.predict(pred_df)\n",
        "\n",
        "# Step 4: Plot predicted satisfaction probability\n",
        "plt.figure(figsize=(8, 6))\n",
        "sns.lineplot(x='cost', y='predicted_prob', data=pred_df, color='green', linewidth=2.5)\n",
        "plt.title(\"Predicted Probability of Citizen Satisfaction\\nBased on Total Cost\", fontsize=14, weight='bold')\n",
        "plt.xlabel(\"Total Cost (BDT)\")\n",
        "plt.ylabel(\"Probability of Being Satisfied\")\n",
        "plt.grid(True)\n",
        "plt.tight_layout()\n",
        "plt.savefig(\"Citizen_Satisfaction_Total_Cost.pdf\", format='pdf', bbox_inches='tight')"
      ],
      "metadata": {
        "id": "sNV8gaiPNKfC"
      },
      "execution_count": null,
      "outputs": []
    },
    {
      "cell_type": "code",
      "source": [],
      "metadata": {
        "id": "p6sMXNqEZ4Jf"
      },
      "execution_count": null,
      "outputs": []
    },
    {
      "cell_type": "markdown",
      "source": [
        "**Training the Model – Finding the Line of Best Fit**\n",
        "\n",
        "\n",
        "To find the best values for $\\beta_0$ and $\\beta_1$, we use the least squares method. This method minimizes the error between the predicted and actual values.\n",
        "\\begin{equation}\n",
        "\\hat{\\beta}_1 = \\frac{\\sum (x_i - \\bar{x})(y_i - \\bar{y})}{\\sum (x_i - \\bar{x})^2}, \\quad \\hat{\\beta}_0 = \\bar{y} - \\hat{\\beta}_1 \\bar{x}\n",
        "\\end{equation}"
      ],
      "metadata": {
        "id": "kBx-DD99Z5Dp"
      }
    },
    {
      "cell_type": "markdown",
      "source": [],
      "metadata": {
        "id": "aKHYFSQYaCOi"
      }
    }
  ]
}